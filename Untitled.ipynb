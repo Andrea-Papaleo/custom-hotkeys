{
 "cells": [
  {
   "cell_type": "code",
   "execution_count": 7,
   "id": "40bf541a",
   "metadata": {},
   "outputs": [],
   "source": [
    "var person = {name: 'me'}\n",
    "var PersonProto = {getName: function(){ return this.name;}};"
   ]
  },
  {
   "cell_type": "code",
   "execution_count": 8,
   "id": "04278c1f",
   "metadata": {},
   "outputs": [
    {
     "data": {
      "text/plain": [
       "{ name: 'me' }"
      ]
     },
     "execution_count": 8,
     "metadata": {},
     "output_type": "execute_result"
    }
   ],
   "source": [
    "Object.setPrototypeOf(person, PersonProto)"
   ]
  },
  {
   "cell_type": "code",
   "execution_count": 9,
   "id": "d57059bf",
   "metadata": {},
   "outputs": [
    {
     "data": {
      "text/plain": [
       "'me'"
      ]
     },
     "execution_count": 9,
     "metadata": {},
     "output_type": "execute_result"
    }
   ],
   "source": [
    "person.getName()"
   ]
  },
  {
   "cell_type": "code",
   "execution_count": 10,
   "id": "34493fef",
   "metadata": {},
   "outputs": [],
   "source": [
    "function sayHello() { console.log(`Greetings ${this.name}`) }\n",
    "var a = {name: 'peter'};"
   ]
  },
  {
   "cell_type": "code",
   "execution_count": 11,
   "id": "e5d21fab",
   "metadata": {},
   "outputs": [
    {
     "name": "stdout",
     "output_type": "stream",
     "text": [
      "Greetings peter\n"
     ]
    }
   ],
   "source": [
    "sayHello.call(a)"
   ]
  },
  {
   "cell_type": "code",
   "execution_count": 12,
   "id": "4e65bace",
   "metadata": {},
   "outputs": [
    {
     "ename": "TypeError",
     "evalue": "a.hasOwnProperty is not a function",
     "output_type": "error",
     "traceback": [
      "evalmachine.<anonymous>:9",
      "a.hasOwnProperty('name'); // throws a TypeError: a.hasOwnProperty is not a function",
      "  ^",
      "",
      "TypeError: a.hasOwnProperty is not a function",
      "    at evalmachine.<anonymous>:9:3",
      "    at Script.runInThisContext (node:vm:129:12)",
      "    at Object.runInThisContext (node:vm:305:38)",
      "    at run ([eval]:1020:15)",
      "    at onRunRequest ([eval]:864:18)",
      "    at onMessage ([eval]:828:13)",
      "    at process.emit (node:events:527:28)",
      "    at emit (node:internal/child_process:938:14)",
      "    at processTicksAndRejections (node:internal/process/task_queues:84:21)"
     ]
    }
   ],
   "source": [
    "// Object.create() accepts an argument which becomes\n",
    "// the prototype for newly created object.\n",
    "var a = Object.create(null); // Setting `null` as prototype for 'a'. \n",
    "\n",
    "// Adding a 'name' property on the instance\n",
    "a.name = 'peter';\n",
    "\n",
    "// Using `hasOwnProperty` method would cause an error\n",
    "a.hasOwnProperty('name'); // throws a TypeError: a.hasOwnProperty is not a function"
   ]
  },
  {
   "cell_type": "code",
   "execution_count": 13,
   "id": "23726783",
   "metadata": {},
   "outputs": [],
   "source": [
    "function hotkey(){\n",
    "    keys = [];\n",
    "}"
   ]
  },
  {
   "cell_type": "code",
   "execution_count": 14,
   "id": "fbc5b747",
   "metadata": {},
   "outputs": [],
   "source": [
    "function updateKeys(){\n",
    "    return ['key']\n",
    "}"
   ]
  },
  {
   "cell_type": "code",
   "execution_count": 15,
   "id": "d62a9d1c",
   "metadata": {},
   "outputs": [],
   "source": [
    "const _api = {updateKeys}"
   ]
  },
  {
   "cell_type": "code",
   "execution_count": 16,
   "id": "cb551f51",
   "metadata": {},
   "outputs": [
    {
     "data": {
      "text/plain": [
       "[Function: updateKeys]"
      ]
     },
     "execution_count": 16,
     "metadata": {},
     "output_type": "execute_result"
    }
   ],
   "source": [
    "for (const a in _api){\n",
    "    if(Object.prototype.hasOwnProperty.call(_api,a)){\n",
    "        hotkey[a] = _api[a]\n",
    "    }\n",
    "}"
   ]
  },
  {
   "cell_type": "code",
   "execution_count": 17,
   "id": "bb8370de",
   "metadata": {},
   "outputs": [
    {
     "data": {
      "text/plain": [
       "[Function: hotkey] { updateKeys: [Function: updateKeys] }"
      ]
     },
     "execution_count": 17,
     "metadata": {},
     "output_type": "execute_result"
    }
   ],
   "source": [
    "hotkey"
   ]
  },
  {
   "cell_type": "code",
   "execution_count": 18,
   "id": "82137871",
   "metadata": {},
   "outputs": [
    {
     "data": {
      "text/plain": [
       "[ 'key' ]"
      ]
     },
     "execution_count": 18,
     "metadata": {},
     "output_type": "execute_result"
    }
   ],
   "source": [
    "hotkey.updateKeys()"
   ]
  },
  {
   "cell_type": "code",
   "execution_count": 20,
   "id": "2b5b2a09",
   "metadata": {},
   "outputs": [
    {
     "data": {
      "text/plain": [
       "[ 'a', 'b', 'c' ]"
      ]
     },
     "execution_count": 20,
     "metadata": {},
     "output_type": "execute_result"
    }
   ],
   "source": [
    "['a','b','c',...[]].slice(0)"
   ]
  },
  {
   "cell_type": "code",
   "execution_count": null,
   "id": "2bd29ccd",
   "metadata": {},
   "outputs": [],
   "source": []
  }
 ],
 "metadata": {
  "kernelspec": {
   "display_name": "JavaScript (Node.js)",
   "language": "javascript",
   "name": "javascript"
  },
  "language_info": {
   "file_extension": ".js",
   "mimetype": "application/javascript",
   "name": "javascript",
   "version": "16.16.0"
  }
 },
 "nbformat": 4,
 "nbformat_minor": 5
}
